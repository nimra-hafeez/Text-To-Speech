{
 "cells": [
  {
   "cell_type": "markdown",
   "id": "7bd9a5d7",
   "metadata": {},
   "source": [
    "# Text To Speech"
   ]
  },
  {
   "cell_type": "code",
   "execution_count": 1,
   "id": "b5417918",
   "metadata": {},
   "outputs": [
    {
     "name": "stdout",
     "output_type": "stream",
     "text": [
      "Requirement already satisfied: gTTS in c:\\users\\nima\\anaconda3\\lib\\site-packages (2.5.0)\n",
      "Requirement already satisfied: requests<3,>=2.27 in c:\\users\\nima\\anaconda3\\lib\\site-packages (from gTTS) (2.31.0)\n",
      "Requirement already satisfied: click<8.2,>=7.1 in c:\\users\\nima\\anaconda3\\lib\\site-packages (from gTTS) (8.0.4)\n",
      "Requirement already satisfied: colorama in c:\\users\\nima\\anaconda3\\lib\\site-packages (from click<8.2,>=7.1->gTTS) (0.4.6)\n",
      "Requirement already satisfied: charset-normalizer<4,>=2 in c:\\users\\nima\\anaconda3\\lib\\site-packages (from requests<3,>=2.27->gTTS) (2.0.4)\n",
      "Requirement already satisfied: idna<4,>=2.5 in c:\\users\\nima\\anaconda3\\lib\\site-packages (from requests<3,>=2.27->gTTS) (3.4)\n",
      "Requirement already satisfied: urllib3<3,>=1.21.1 in c:\\users\\nima\\anaconda3\\lib\\site-packages (from requests<3,>=2.27->gTTS) (1.26.16)\n",
      "Requirement already satisfied: certifi>=2017.4.17 in c:\\users\\nima\\anaconda3\\lib\\site-packages (from requests<3,>=2.27->gTTS) (2023.7.22)\n",
      "Note: you may need to restart the kernel to use updated packages.\n"
     ]
    }
   ],
   "source": [
    "pip install gTTS\n"
   ]
  },
  {
   "cell_type": "code",
   "execution_count": 8,
   "id": "276bdcea",
   "metadata": {},
   "outputs": [
    {
     "data": {
      "text/plain": [
       "0"
      ]
     },
     "execution_count": 8,
     "metadata": {},
     "output_type": "execute_result"
    }
   ],
   "source": [
    "from gtts import gTTS\n",
    "import os\n",
    "\n",
    "# input\n",
    "text = 'Welcome to Hackers Realm. It contains tutorial videos on technology. Cutting-edge technologies, like 5G and IoT, propel global connectivity, transforming industries and daily life with unprecedented efficiency and possibilities.'\n",
    "\n",
    "# convert text to speech\n",
    "text_to_speech = gTTS(text=text, lang='en', slow=False)\n",
    "\n",
    "# save the audio file\n",
    "text_to_speech.save('test.mp3')\n",
    "\n",
    "# play the audio\n",
    "os.system('test.mp3')"
   ]
  },
  {
   "cell_type": "code",
   "execution_count": 3,
   "id": "97336625",
   "metadata": {},
   "outputs": [
    {
     "name": "stdout",
     "output_type": "stream",
     "text": [
      "Requirement already satisfied: pyttsx3 in c:\\users\\nima\\anaconda3\\lib\\site-packages (2.90)\n",
      "Requirement already satisfied: comtypes in c:\\users\\nima\\anaconda3\\lib\\site-packages (from pyttsx3) (1.2.0)\n",
      "Requirement already satisfied: pypiwin32 in c:\\users\\nima\\anaconda3\\lib\\site-packages (from pyttsx3) (223)\n",
      "Requirement already satisfied: pywin32 in c:\\users\\nima\\anaconda3\\lib\\site-packages (from pyttsx3) (305.1)\n",
      "Note: you may need to restart the kernel to use updated packages.\n"
     ]
    }
   ],
   "source": [
    "pip install pyttsx3"
   ]
  },
  {
   "cell_type": "code",
   "execution_count": 9,
   "id": "ffc21862",
   "metadata": {},
   "outputs": [],
   "source": [
    "import pyttsx3\n",
    "\n",
    "# input\n",
    "text = 'Welcome to Hackers Realm. It contains tutorial videos on technology. Cutting-edge technologies, like 5G and IoT, propel global connectivity, transforming industries and daily life with unprecedented efficiency and possibilities.'\n",
    "\n",
    "\n",
    "\n",
    "# initialize the module\n",
    "text_to_speech = pyttsx3.init()\n",
    "\n",
    "# adjust the speed\n",
    "text_to_speech.setProperty('rate', 150)\n",
    "\n",
    "# change the voice\n",
    "voices = text_to_speech.getProperty('voices')\n",
    "text_to_speech.setProperty('voice', voices[1].id) # 0 for male and 1 for female\n",
    "\n",
    "# convert text to speech\n",
    "text_to_speech.say(text)\n",
    "\n",
    "# save the audio file\n",
    "text_to_speech.save_to_file(text, 'test.mp3')\n",
    "\n",
    "# listen to audio\n",
    "text_to_speech.runAndWait()"
   ]
  },
  {
   "cell_type": "markdown",
   "id": "35b7bffc",
   "metadata": {},
   "source": [
    "# Conclusion\n",
    "Delighted to announce the success of our Text-to-Speech project! This transformative technology converts written words into expressive, lifelike speech, enhancing accessibility across platforms. A testament to innovation, our journey exemplifies the power of merging language and technology. Onward to a future of inclusive communication!"
   ]
  },
  {
   "cell_type": "code",
   "execution_count": null,
   "id": "41b38b8f",
   "metadata": {},
   "outputs": [],
   "source": []
  }
 ],
 "metadata": {
  "kernelspec": {
   "display_name": "Python 3 (ipykernel)",
   "language": "python",
   "name": "python3"
  },
  "language_info": {
   "codemirror_mode": {
    "name": "ipython",
    "version": 3
   },
   "file_extension": ".py",
   "mimetype": "text/x-python",
   "name": "python",
   "nbconvert_exporter": "python",
   "pygments_lexer": "ipython3",
   "version": "3.11.4"
  }
 },
 "nbformat": 4,
 "nbformat_minor": 5
}
